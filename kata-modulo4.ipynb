{
 "cells": [
  {
   "cell_type": "code",
   "execution_count": null,
   "metadata": {},
   "outputs": [],
   "source": []
  },
  {
   "cell_type": "markdown",
   "metadata": {},
   "source": [
    "# Ejercicio 1"
   ]
  },
  {
   "cell_type": "code",
   "execution_count": 3,
   "metadata": {},
   "outputs": [
    {
     "name": "stdout",
     "output_type": "stream",
     "text": [
      "['interesting facts about the moon', \" the moon is earth's only satellite\", ' there are several interesting facts about the moon and how it affects life here on earth', ' \\non average, the moon moves 4cm away from the earth every year', ' this yearly drift is not significant enough to cause immediate effects on earth', ' the highest daylight temperature of the moon is 127 c', '']\n",
      " \n",
      "on average, the moon moves 4cm away from the earth every year\n",
      " the highest daylight temperature of the moon is 127 c\n",
      "interesting facts about the moon\n",
      " the moon is earth's only satellite\n",
      " there are several interesting facts about the moon and how it affects life here on earth\n",
      " \n",
      "on average, the moon moves 4cm away from the earth every year\n",
      " this yearly drift is not significant enough to cause immediate effects on earth\n",
      " the highest daylight temperature of the moon is 127 c\n",
      "\n"
     ]
    }
   ],
   "source": [
    "text = \"\"\"Interesting facts about the Moon. The Moon is Earth's only satellite. There are several interesting facts about the Moon and how it affects life here on Earth. \n",
    "On average, the Moon moves 4cm away from the Earth every year. This yearly drift is not significant enough to cause immediate effects on Earth. The highest daylight temperature of the Moon is 127 C.\"\"\"\n",
    "\n",
    "#Se divide el texto por oración\n",
    "sentences = text.lower().split('.')\n",
    "print(sentences)\n",
    "\n",
    "# Define las palabras pista: average, temperature y distance suenan bien\n",
    "palabras_clave = [\"average\", \"temperature\", \"distance\"]\n",
    "\n",
    "#Crea un bucle para imprimir solo datos sobre la Luna que estén relacionados con las palabras clave definidas anteriormente:\n",
    "for sentence in sentences:\n",
    "    for palabra in palabras_clave:\n",
    "        if palabra in sentence:\n",
    "            print(sentence)\n",
    "\n",
    "# Ciclo para cambiar C a Celsius\n",
    "for sentence in sentences:\n",
    "    sentence.replace('C', 'Celsius')\n",
    "    print(sentence)"
   ]
  },
  {
   "cell_type": "markdown",
   "metadata": {},
   "source": [
    "# Ejercicio 2"
   ]
  },
  {
   "cell_type": "code",
   "execution_count": 5,
   "metadata": {},
   "outputs": [
    {
     "name": "stdout",
     "output_type": "stream",
     "text": [
      "\n",
      "Gravity Facts About The Moon \n",
      "--------------------------------------------------\n",
      "Name of the planet: Earth\n",
      "Gravity on Moon : 1.6199999999999999 m/s^2\n",
      "\n",
      "\n",
      "Datos de Gravedad sobre: Ganímedes\n",
      "---------------------------------\n",
      "Nombre del planeta: Marte\n",
      "Gravedad en Ganímedes: 1.4300000000000002 m/s^2\n",
      "\n"
     ]
    }
   ],
   "source": [
    "# Datos con los que vas a trabajar\n",
    "name = \"Moon\"\n",
    "gravity = 0.00162 # in kms\n",
    "planet = \"Earth\"\n",
    "\n",
    "#Creamos el título\n",
    "titulo = f\"Gravity Facts about the {name}\"\n",
    "# Creamos la plantilla\n",
    "plantilla = f\"\"\"\n",
    "{'-'*50}\n",
    "Name of the planet: {planet}\n",
    "Gravity on {name} : {gravity * 1000} m/s^2\n",
    "\"\"\"\n",
    "# Unión de ambas cadenas\n",
    "formato = f\"\"\"\\n{titulo.title()} {plantilla}\"\"\"\n",
    "print(formato)\n",
    "\n",
    "# Ahora usa información de una luna diferente para ver si la plantilla todavía funciona.\n",
    "# Datos muestra:\n",
    "# planeta = 'Marte '\n",
    "# gravedad  = 0.00143\n",
    "# nombre = 'Ganímedes'\n",
    "planeta = \"Marte\"\n",
    "gravedad = 0.00143 # in kms\n",
    "nombre = \"Ganímedes\"\n",
    "\n",
    "nueva_plantilla = \"\"\"\n",
    "Datos de Gravedad sobre: {nombre}\n",
    "---------------------------------\n",
    "Nombre del planeta: {planeta}\n",
    "Gravedad en {nombre}: {gravedad} m/s^2\n",
    "\"\"\"\n",
    "print(nueva_plantilla.format(nombre=nombre, planeta=planeta, gravedad=gravedad*1000))"
   ]
  }
 ],
 "metadata": {
  "interpreter": {
   "hash": "6d38b4aa70746ac35f34700f0c7d63f101b5a62157bd8a23198e86fc36064c59"
  },
  "kernelspec": {
   "display_name": "Python 3.8.7 64-bit",
   "language": "python",
   "name": "python3"
  },
  "language_info": {
   "codemirror_mode": {
    "name": "ipython",
    "version": 3
   },
   "file_extension": ".py",
   "mimetype": "text/x-python",
   "name": "python",
   "nbconvert_exporter": "python",
   "pygments_lexer": "ipython3",
   "version": "3.8.7"
  },
  "orig_nbformat": 4
 },
 "nbformat": 4,
 "nbformat_minor": 2
}
