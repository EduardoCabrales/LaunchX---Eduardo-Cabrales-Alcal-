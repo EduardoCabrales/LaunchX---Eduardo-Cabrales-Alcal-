{
 "cells": [
  {
   "cell_type": "code",
   "execution_count": null,
   "metadata": {},
   "outputs": [],
   "source": []
  },
  {
   "cell_type": "markdown",
   "metadata": {},
   "source": [
    "# Ejercicio 1\n",
    "Comienza agregando dos variables, una para la entrada del usuario, con el nombre new_planet, y otra variable para la lista de planetas, denominada planets."
   ]
  },
  {
   "cell_type": "code",
   "execution_count": 4,
   "metadata": {},
   "outputs": [
    {
     "name": "stdout",
     "output_type": "stream",
     "text": [
      "La lista final de planetas es:  ['5', '4', '5']\n"
     ]
    }
   ],
   "source": [
    "# Declara dos variables\n",
    "new_planet = input(\"Ingresa el nombre del planeta: \")\n",
    "planets = []\n",
    "\n",
    "while new_planet.lower() != 'done':\n",
    "    planets.append(new_planet)\n",
    "    new_planet = input(\"Ingrese el nombre de un nuevo planeta o termine la ejecución con 'done'\")\n",
    "\n",
    "print(\"La lista final de planetas es: \", planets)"
   ]
  },
  {
   "cell_type": "markdown",
   "metadata": {},
   "source": [
    "# Ejercicio 2\n",
    "## Ejercicio: - Ciclo para una lista\n",
    "\n",
    "En el ejercicio anterior, creaste código para solicitar a los usuarios que introduzcan una lista de nombres de planetas. En este ejercicio, completarás la aplicación escribiendo código que muestre los nombres de esos planetas.\n",
    "\n",
    "## Mostrar la lista de los planetas\n",
    "La variable planets almacena los nombres de planeta que ha introducido un usuario. Ahora usarás un ciclo para mostrar esas entradas.\n",
    "\n",
    "Crea un ciclo for para iterar sobre la lista planets. Puedes usar como nombre de la variable planet para cada planeta. Dentro del ciclo for, recuerda utilizar print para mostrar cada planet."
   ]
  },
  {
   "cell_type": "code",
   "execution_count": 6,
   "metadata": {},
   "outputs": [
    {
     "name": "stdout",
     "output_type": "stream",
     "text": [
      "La lista final de planetas es: \n",
      "1\n",
      "2\n",
      "3\n",
      "4\n",
      "5\n",
      "6\n",
      "7\n",
      "8\n"
     ]
    }
   ],
   "source": [
    "new_planet = input(\"Ingresa el nombre del planeta: \")\n",
    "planets = []\n",
    "\n",
    "while new_planet.lower() != 'done':\n",
    "    planets.append(new_planet)\n",
    "    new_planet = input(\"Ingrese el nombre de un nuevo planeta o termine la ejecución con 'done'\")\n",
    "\n",
    "print(\"La lista final de planetas es: \")\n",
    "\n",
    "# Escribe tu ciclo for para iterar en una lista de planetas\n",
    "for planet in planets:\n",
    "    print (planet)"
   ]
  }
 ],
 "metadata": {
  "interpreter": {
   "hash": "6d38b4aa70746ac35f34700f0c7d63f101b5a62157bd8a23198e86fc36064c59"
  },
  "kernelspec": {
   "display_name": "Python 3.8.7 64-bit",
   "language": "python",
   "name": "python3"
  },
  "language_info": {
   "codemirror_mode": {
    "name": "ipython",
    "version": 3
   },
   "file_extension": ".py",
   "mimetype": "text/x-python",
   "name": "python",
   "nbconvert_exporter": "python",
   "pygments_lexer": "ipython3",
   "version": "3.8.7"
  },
  "orig_nbformat": 4
 },
 "nbformat": 4,
 "nbformat_minor": 2
}
