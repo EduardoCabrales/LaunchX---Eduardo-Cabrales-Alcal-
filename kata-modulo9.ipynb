{
 "cells": [
  {
   "cell_type": "code",
   "execution_count": null,
   "metadata": {},
   "outputs": [],
   "source": []
  },
  {
   "cell_type": "markdown",
   "metadata": {},
   "source": [
    "# Ejercicio 1\n",
    "## Ejercicio 1: Trabajar con argumentos en funciones\n"
   ]
  },
  {
   "cell_type": "code",
   "execution_count": 3,
   "metadata": {},
   "outputs": [
    {
     "name": "stdout",
     "output_type": "stream",
     "text": [
      "\n",
      "    Reporte de combustible.\n",
      "    Promedio: 21.666666666666668\n",
      "    Tanque1: 20 \n",
      "    Tanque2: 15\n",
      "    Tanque3: 30\n",
      "    Total de los tres tanques: 65\n",
      "    \n"
     ]
    }
   ],
   "source": [
    "# Función para leer 3 tanques de combustible y muestre el promedio\n",
    "\n",
    "def fuel_reading(tank1, tank2, tank3):\n",
    "    value = tank1 + tank2 + tank3 \n",
    "    return f\"\"\"\n",
    "    Reporte de combustible.\n",
    "    Promedio: {average_operation(value, 3)}\n",
    "    Tanque 1: {tank1} \n",
    "    Tanque 2: {tank2}\n",
    "    Tanque 3: {tank3}\n",
    "    Total de los tres tanques: {value}\n",
    "    \"\"\"\n",
    "\n",
    "# Función promedio\n",
    "def average_operation(value, total_items):\n",
    "    average = value / total_items\n",
    "    return average\n",
    "\n",
    "# Llamamos a la función que genera el reporte print(funcion(tanque1, tanque2, tanque3))\n",
    "print(fuel_reading(20, 15, 30))\n",
    "\n"
   ]
  },
  {
   "cell_type": "markdown",
   "metadata": {},
   "source": [
    "# Ejercicio 2\n",
    "## Ejercicio : Trabajar con argumentos de palabras clave en funciones\n",
    "En este ejercicio, construirás un informe de cohete que requiere varias piezas de información, como el tiempo hasta el destino, el combustible a la izquierda y el nombre del destino. Comienza por crear una función que creará un informe preciso de la misión:"
   ]
  },
  {
   "cell_type": "code",
   "execution_count": 5,
   "metadata": {},
   "outputs": [
    {
     "name": "stdout",
     "output_type": "stream",
     "text": [
      "\n",
      "    Informe de la misión.\n",
      "    Destino: Marte, \n",
      "    Combustible restante 13500000 lts\n",
      "    Tiempo total de vuelo: 10071 minutos\n",
      "    Tanque: principal:  9000000 lts.\n",
      "Tanque: externo:  4500000 lts.\n",
      "\n"
     ]
    }
   ],
   "source": [
    "# Función con un informe preciso de la misión. Considera hora de prelanzamiento, tiempo de vuelo, destino, tanque externo y tanque interno\n",
    "def informe_mision(destino, *minutos_de_espera, **reservas_de_combustible):\n",
    "    reporte = f\"\"\"\n",
    "    Informe de la misión.\n",
    "    Destino: {destino}, \n",
    "    Combustible restante {sum(reservas_de_combustible.values())} lts\n",
    "    Tiempo total de vuelo: {sum(minutos_de_espera)} minutos\n",
    "    \"\"\"\n",
    "    for nombre_tanque, litros in reservas_de_combustible.items():\n",
    "        reporte += f\"\"\"Tanque: {nombre_tanque}:  {litros} lts.\\n\"\"\"\n",
    "    return reporte\n",
    "\n",
    "\n",
    "print(informe_mision(\"Marte\", 54, 42, 9954, 21, principal = 9000000, externo =  4500000))"
   ]
  }
 ],
 "metadata": {
  "interpreter": {
   "hash": "6d38b4aa70746ac35f34700f0c7d63f101b5a62157bd8a23198e86fc36064c59"
  },
  "kernelspec": {
   "display_name": "Python 3.8.7 64-bit",
   "language": "python",
   "name": "python3"
  },
  "language_info": {
   "codemirror_mode": {
    "name": "ipython",
    "version": 3
   },
   "file_extension": ".py",
   "mimetype": "text/x-python",
   "name": "python",
   "nbconvert_exporter": "python",
   "pygments_lexer": "ipython3",
   "version": "3.8.7"
  },
  "orig_nbformat": 4
 },
 "nbformat": 4,
 "nbformat_minor": 2
}
