{
 "cells": [
  {
   "cell_type": "code",
   "execution_count": null,
   "metadata": {},
   "outputs": [],
   "source": []
  },
  {
   "cell_type": "markdown",
   "metadata": {},
   "source": [
    "# Ejercicio 1"
   ]
  },
  {
   "cell_type": "code",
   "execution_count": 1,
   "metadata": {},
   "outputs": [
    {
     "name": "stdout",
     "output_type": "stream",
     "text": [
      "Distancia en km:  628949330  km.\n",
      "Distancia en millas:  390577534  millas\n"
     ]
    }
   ],
   "source": [
    "# Crear variables para almacenar las dos distancias\n",
    "distancia_tierra = \"149597870\" #km\n",
    "distancia_jupiter = \"778547200\" #km\n",
    "# Calcular la distancia entre planetas\n",
    "distancia_entre_tierra_y_jupiter = abs(int(distancia_tierra) - int(distancia_jupiter))\n",
    "distancia_final_en_millas = abs(distancia_entre_tierra_y_jupiter * 0.621)\n",
    "\n",
    "print('Distancia en km: ', round(distancia_entre_tierra_y_jupiter), ' km.')\n",
    "print('Distancia en millas: ', round(distancia_final_en_millas), ' millas')"
   ]
  },
  {
   "cell_type": "markdown",
   "metadata": {},
   "source": [
    "# Ejercicio 2"
   ]
  },
  {
   "cell_type": "code",
   "execution_count": 3,
   "metadata": {},
   "outputs": [
    {
     "name": "stdout",
     "output_type": "stream",
     "text": [
      "Distancia en km:  50300000  km.\n",
      "Distancia en millas:  31236300  millas\n"
     ]
    }
   ],
   "source": [
    "# Almacenar las entradas del usuario\n",
    "#Pista: variable = input(\"¿Cuál es tu nombre?\")\n",
    "primer_planeta = input(\"Inserta la distancia con respecto al sol del primer planeta en KM: \")\n",
    "segundo_planeta = input(\"Inserta la distancia con respecto al sol del segundo planeta en KM: \")\n",
    "# Convierte las cadenas de ambos planetas a números enteros\n",
    "primer_planeta = int(primer_planeta)\n",
    "segundo_planeta = int(segundo_planeta)\n",
    "# Realizar el cálculo y determinar el valor absoluto\n",
    "distancia_km = abs(primer_planeta - segundo_planeta)\n",
    "# Convertir de KM a Millas\n",
    "distancia_millas = distancia_km * 0.621\n",
    "#Mostrar distancias\n",
    "print('Distancia en km: ', round(distancia_km), ' km.')\n",
    "print('Distancia en millas: ', round(distancia_millas), ' millas')"
   ]
  }
 ],
 "metadata": {
  "interpreter": {
   "hash": "6d38b4aa70746ac35f34700f0c7d63f101b5a62157bd8a23198e86fc36064c59"
  },
  "kernelspec": {
   "display_name": "Python 3.8.7 64-bit",
   "language": "python",
   "name": "python3"
  },
  "language_info": {
   "codemirror_mode": {
    "name": "ipython",
    "version": 3
   },
   "file_extension": ".py",
   "mimetype": "text/x-python",
   "name": "python",
   "nbconvert_exporter": "python",
   "pygments_lexer": "ipython3",
   "version": "3.8.7"
  },
  "orig_nbformat": 4
 },
 "nbformat": 4,
 "nbformat_minor": 2
}
